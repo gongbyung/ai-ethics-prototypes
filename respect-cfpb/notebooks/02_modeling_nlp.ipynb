{
 "cells": [
  {
   "cell_type": "markdown",
   "id": "7970d6b7",
   "metadata": {},
   "source": [
    "## Preprocessing"
   ]
  },
  {
   "cell_type": "code",
   "execution_count": 23,
   "id": "16d10581",
   "metadata": {},
   "outputs": [
    {
     "name": "stdout",
     "output_type": "stream",
     "text": [
      "Index(['complaint_id', 'date_received', 'company', 'issue', 'sub_product',\n",
      "       'clean_text', 'word_len', 'company_response', 'timely', 'state',\n",
      "       'month'],\n",
      "      dtype='object')\n",
      "risk_flag\n",
      "0    0.951168\n",
      "1    0.048832\n",
      "Name: proportion, dtype: float64\n",
      "risk_flag\n",
      "0    11239\n",
      "1      577\n",
      "Name: count, dtype: int64\n",
      "Train: 7089 Val: 2363 Test: 2364\n",
      "Train risk ratio: 0.048808012413598535\n",
      "Val risk ratio: 0.048666948793906054\n",
      "Test risk ratio: 0.049069373942470386\n"
     ]
    }
   ],
   "source": [
    "import pandas as pd\n",
    "from sklearn.model_selection import train_test_split\n",
    "import json\n",
    "import numpy as np\n",
    "import os\n",
    "\n",
    "# Load cleaned CFPB data\n",
    "df = pd.read_csv(\"../data/interim/cfpb_mortgage_2024_clean.csv\")\n",
    "\n",
    "# Verify expected columns\n",
    "print(df.columns)\n",
    "\n",
    "# Create binary risk flag\n",
    "RISKY = {\"Closed with monetary relief\", \"Closed with non-monetary relief\"}\n",
    "df[\"risk_flag\"] = df[\"company_response\"].isin(RISKY).astype(int)\n",
    "\n",
    "# Drop rows with missing or empty narratives\n",
    "df = df[df[\"clean_text\"].notna() & (df[\"clean_text\"].str.strip() != \"\")]\n",
    "\n",
    "# Check class balance\n",
    "print(df[\"risk_flag\"].value_counts(normalize=True))\n",
    "print(df[\"risk_flag\"].value_counts())\n",
    "\n",
    "# First split: train (60%) vs temp (40%)\n",
    "train_df, temp_df = train_test_split(\n",
    "    df,\n",
    "    test_size=0.4,\n",
    "    stratify=df[\"risk_flag\"],\n",
    "    random_state=42\n",
    ")\n",
    "\n",
    "# Second split: validation (20%) and test (20%) from temp\n",
    "val_df, test_df = train_test_split(\n",
    "    temp_df,\n",
    "    test_size=0.5,\n",
    "    stratify=temp_df[\"risk_flag\"],\n",
    "    random_state=42\n",
    ")\n",
    "\n",
    "# Confirm split sizes and balance\n",
    "print(\"Train:\", len(train_df), \"Val:\", len(val_df), \"Test:\", len(test_df))\n",
    "print(\"Train risk ratio:\", train_df[\"risk_flag\"].mean())\n",
    "print(\"Val risk ratio:\", val_df[\"risk_flag\"].mean())\n",
    "print(\"Test risk ratio:\", test_df[\"risk_flag\"].mean())\n",
    "\n",
    "# Save splits to data/splits folder\n",
    "os.makedirs(\"../data/processed\", exist_ok=True)\n",
    "train_df.to_csv(\"../data/processed/train.csv\", index=False)\n",
    "val_df.to_csv(\"../data/processed/val.csv\", index=False)\n",
    "test_df.to_csv(\"../data/processed/test.csv\", index=False)"
   ]
  },
  {
   "cell_type": "markdown",
   "id": "9ee99339",
   "metadata": {},
   "source": [
    "## Baseline Model: TF-IDF"
   ]
  },
  {
   "cell_type": "code",
   "execution_count": 25,
   "id": "181dbdb9",
   "metadata": {},
   "outputs": [
    {
     "name": "stdout",
     "output_type": "stream",
     "text": [
      "Training Results\n",
      "              precision    recall  f1-score   support\n",
      "\n",
      "           0      0.987     0.828     0.901      6743\n",
      "           1      0.190     0.786     0.306       346\n",
      "\n",
      "    accuracy                          0.826      7089\n",
      "   macro avg      0.588     0.807     0.603      7089\n",
      "weighted avg      0.948     0.826     0.872      7089\n",
      "\n",
      "ROC-AUC: 0.8902199154936097\n",
      "\n",
      "Validation Results\n",
      "              precision    recall  f1-score   support\n",
      "\n",
      "           0      0.977     0.811     0.886      2248\n",
      "           1      0.147     0.635     0.238       115\n",
      "\n",
      "    accuracy                          0.802      2363\n",
      "   macro avg      0.562     0.723     0.562      2363\n",
      "weighted avg      0.937     0.802     0.855      2363\n",
      "\n",
      "ROC-AUC: 0.8033614420547733\n"
     ]
    }
   ],
   "source": [
    "# Import required libraries\n",
    "import pandas as pd\n",
    "from sklearn.feature_extraction.text import TfidfVectorizer\n",
    "from sklearn.linear_model import LogisticRegression\n",
    "from sklearn.metrics import (\n",
    "    classification_report, roc_auc_score, confusion_matrix,\n",
    "    precision_recall_curve, auc\n",
    ")\n",
    "import matplotlib.pyplot as plt\n",
    "import seaborn as sns\n",
    "\n",
    "# Load pre-split data\n",
    "train_df = pd.read_csv(\"../data/processed/train.csv\")\n",
    "val_df = pd.read_csv(\"../data/processed/val.csv\")\n",
    "test_df = pd.read_csv(\"../data/processed/test.csv\")\n",
    "\n",
    "# Extract features and labels\n",
    "X_train, y_train = train_df[\"clean_text\"], train_df[\"risk_flag\"]\n",
    "X_val, y_val = val_df[\"clean_text\"], val_df[\"risk_flag\"]\n",
    "X_test, y_test = test_df[\"clean_text\"], test_df[\"risk_flag\"]\n",
    "\n",
    "# TF-IDF vectorization\n",
    "vectorizer = TfidfVectorizer(\n",
    "    max_features=50000,   # vocabulary cap for efficiency\n",
    "    ngram_range=(1,1),     # unigrams and bigrams\n",
    "    stop_words='english',\n",
    "    min_df=5               # ignore rare tokens\n",
    ")\n",
    "\n",
    "X_train_tfidf = vectorizer.fit_transform(X_train)\n",
    "X_val_tfidf = vectorizer.transform(X_val)\n",
    "X_test_tfidf = vectorizer.transform(X_test)\n",
    "\n",
    "# Logistic Regression model with class weighting\n",
    "model = LogisticRegression(\n",
    "    class_weight=\"balanced\",\n",
    "    max_iter=1000,\n",
    "    solver=\"liblinear\",\n",
    "    C=0.01,\n",
    "    random_state=42\n",
    ")\n",
    "\n",
    "# Train the model\n",
    "model.fit(X_train_tfidf, y_train)\n",
    "\n",
    "# Evaluate generalization between training and validation\n",
    "y_train_pred = model.predict(X_train_tfidf)\n",
    "y_train_prob = model.predict_proba(X_train_tfidf)[:, 1]\n",
    "\n",
    "y_val_pred = model.predict(X_val_tfidf)\n",
    "y_val_prob = model.predict_proba(X_val_tfidf)[:, 1]\n",
    "\n",
    "print(\"Training Results\")\n",
    "print(classification_report(y_train, y_train_pred, digits=3))\n",
    "print(\"ROC-AUC:\", roc_auc_score(y_train, y_train_prob))\n",
    "\n",
    "print(\"\\nValidation Results\")\n",
    "print(classification_report(y_val, y_val_pred, digits=3))\n",
    "print(\"ROC-AUC:\", roc_auc_score(y_val, y_val_prob))\n"
   ]
  },
  {
   "cell_type": "code",
   "execution_count": 26,
   "id": "7e3fe3b8",
   "metadata": {},
   "outputs": [
    {
     "name": "stdout",
     "output_type": "stream",
     "text": [
      "Test Results\n",
      "              precision    recall  f1-score   support\n",
      "\n",
      "           0      0.973     0.799     0.878      2248\n",
      "           1      0.129     0.578     0.211       116\n",
      "\n",
      "    accuracy                          0.788      2364\n",
      "   macro avg      0.551     0.688     0.544      2364\n",
      "weighted avg      0.932     0.788     0.845      2364\n",
      "\n",
      "ROC-AUC: 0.7852228801079887\n"
     ]
    },
    {
     "data": {
      "image/png": "[encoded data removed]",
      "text/plain": [
       "<Figure size 500x400 with 1 Axes>"
      ]
     },
     "metadata": {},
     "output_type": "display_data"
    },
    {
     "data": {
      "image/png": "[encoded data removed]",
      "text/plain": [
       "<Figure size 600x400 with 1 Axes>"
      ]
     },
     "metadata": {},
     "output_type": "display_data"
    }
   ],
   "source": [
    "# Predict on test set\n",
    "test_preds = model.predict(X_test_tfidf)\n",
    "test_probs = model.predict_proba(X_test_tfidf)[:, 1]\n",
    "\n",
    "# Print performance report\n",
    "print(\"Test Results\")\n",
    "print(classification_report(y_test, test_preds, digits=3))\n",
    "print(\"ROC-AUC:\", roc_auc_score(y_test, test_probs))\n",
    "\n",
    "# Confusion matrix\n",
    "cm_test = confusion_matrix(y_test, test_preds)\n",
    "plt.figure(figsize=(5, 4))\n",
    "sns.heatmap(cm_test, annot=True, fmt=\"d\", cmap=\"Blues\", cbar=False)\n",
    "plt.xlabel(\"Predicted\")\n",
    "plt.ylabel(\"True\")\n",
    "plt.title(\"Test Confusion Matrix\")\n",
    "plt.tight_layout()\n",
    "plt.show()\n",
    "\n",
    "# Precision-Recall curve\n",
    "prec, rec, _ = precision_recall_curve(y_test, test_probs)\n",
    "pr_auc = auc(rec, prec)\n",
    "\n",
    "plt.figure(figsize=(6, 4))\n",
    "plt.plot(rec, prec, label=f\"PR AUC = {pr_auc:.3f}\")\n",
    "plt.xlabel(\"Recall\")\n",
    "plt.ylabel(\"Precision\")\n",
    "plt.title(\"Precision-Recall Curve (Test)\")\n",
    "plt.legend()\n",
    "plt.tight_layout()\n",
    "plt.show()\n",
    "\n"
   ]
  },
  {
   "cell_type": "code",
   "execution_count": null,
   "id": "661da958",
   "metadata": {},
   "outputs": [],
   "source": [
    "# Save results for later\n",
    "baseline_results = {\n",
    "    \"model_name\": \"tfidf_logreg_baseline\",\n",
    "    \"performance\": {\n",
    "        \"test\": {\n",
    "            \"roc_auc\": float(roc_auc_score(y_test, test_probs)),\n",
    "            \"precision_risk\": float(np.round(classification_report(y_test, test_preds, output_dict=True)['1']['precision'], 3)),\n",
    "            \"recall_risk\": float(np.round(classification_report(y_test, test_preds, output_dict=True)['1']['recall'], 3)),\n",
    "            \"f1_risk\": float(np.round(classification_report(y_test, test_preds, output_dict=True)['1']['f1-score'], 3)),\n",
    "            \"accuracy\": float(np.round(classification_report(y_test, test_preds, output_dict=True)['accuracy'], 3))\n",
    "        }\n",
    "    }\n",
    "}\n",
    "\n",
    "# Create output folder\n",
    "os.makedirs(\"../outputs/models\", exist_ok=True)\n",
    "\n",
    "# Save as JSON\n",
    "output_path = \"../outputs/models/baseline_tfidf_logreg_results.json\"\n",
    "with open(output_path, \"w\") as f:\n",
    "    json.dump(baseline_results, f, indent=4)"
   ]
  },
  {
   "cell_type": "markdown",
   "id": "7e207fd9",
   "metadata": {},
   "source": [
    "## Improved Model: FinBERT & LoRA"
   ]
  },
  {
   "cell_type": "markdown",
   "id": "ab3ca595",
   "metadata": {},
   "source": [
    "### Load FinBERT"
   ]
  },
  {
   "cell_type": "code",
   "execution_count": 31,
   "id": "e6e14e45",
   "metadata": {},
   "outputs": [
    {
     "name": "stdout",
     "output_type": "stream",
     "text": [
      "device: cpu\n",
      "train batches: 444\n",
      "val batches: 148\n",
      "test batches: 148\n"
     ]
    },
    {
     "name": "stderr",
     "output_type": "stream",
     "text": [
      "Some weights of BertForSequenceClassification were not initialized from the model checkpoint at ProsusAI/finbert and are newly initialized because the shapes did not match:\n",
      "- classifier.weight: found shape torch.Size([3, 768]) in the checkpoint and torch.Size([2, 768]) in the model instantiated\n",
      "- classifier.bias: found shape torch.Size([3]) in the checkpoint and torch.Size([2]) in the model instantiated\n",
      "You should probably TRAIN this model on a down-stream task to be able to use it for predictions and inference.\n"
     ]
    },
    {
     "name": "stdout",
     "output_type": "stream",
     "text": [
      "FinBERT model loaded successfully\n"
     ]
    }
   ],
   "source": [
    "import os\n",
    "import pandas as pd\n",
    "import torch\n",
    "from torch.utils.data import Dataset, DataLoader\n",
    "from transformers import AutoTokenizer, AutoModelForSequenceClassification\n",
    "\n",
    "device = torch.device(\"cuda\" if torch.cuda.is_available() else \"cpu\")\n",
    "print(\"device:\", device)\n",
    "\n",
    "# Load data\n",
    "train_df = pd.read_csv(\"../data/processed/train.csv\")\n",
    "val_df   = pd.read_csv(\"../data/processed/val.csv\")\n",
    "test_df  = pd.read_csv(\"../data/processed/test.csv\")\n",
    "\n",
    "# Initiate tokenizer for FinBERT\n",
    "model_name = \"ProsusAI/finbert\"\n",
    "tokenizer = AutoTokenizer.from_pretrained(model_name, use_fast=True)\n",
    "\n",
    "# Convert DF into a PyTorch dataset\n",
    "class ComplaintsDataset(Dataset):\n",
    "    def __init__(self, texts, labels, tokenizer, max_length=256):\n",
    "        self.texts = list(texts)\n",
    "        self.labels = list(labels)\n",
    "        self.tokenizer = tokenizer\n",
    "        self.max_length = max_length\n",
    "    def __len__(self):\n",
    "        return len(self.texts)\n",
    "    def __getitem__(self, idx):\n",
    "        text = str(self.texts[idx])\n",
    "        label = int(self.labels[idx])\n",
    "        enc = self.tokenizer(\n",
    "            text,\n",
    "            truncation=True,\n",
    "            padding=\"max_length\",\n",
    "            max_length=self.max_length,\n",
    "            return_tensors=\"pt\"\n",
    "        )\n",
    "        return {\n",
    "            \"input_ids\": enc[\"input_ids\"].squeeze(0),\n",
    "            \"attention_mask\": enc[\"attention_mask\"].squeeze(0),\n",
    "            \"labels\": torch.tensor(label, dtype=torch.long)\n",
    "        }\n",
    "\n",
    "train_ds = ComplaintsDataset(train_df[\"clean_text\"], train_df[\"risk_flag\"], tokenizer)\n",
    "val_ds   = ComplaintsDataset(val_df[\"clean_text\"], val_df[\"risk_flag\"], tokenizer)\n",
    "test_ds  = ComplaintsDataset(test_df[\"clean_text\"], test_df[\"risk_flag\"], tokenizer)\n",
    "\n",
    "batch_size = 16\n",
    "train_loader = DataLoader(train_ds, batch_size=batch_size, shuffle=True, num_workers=2, pin_memory=True)\n",
    "val_loader   = DataLoader(val_ds,   batch_size=batch_size, shuffle=False, num_workers=2, pin_memory=True)\n",
    "test_loader  = DataLoader(test_ds,  batch_size=batch_size, shuffle=False, num_workers=2, pin_memory=True)\n",
    "\n",
    "print(\"train batches:\", len(train_loader))\n",
    "print(\"val batches:\", len(val_loader))\n",
    "print(\"test batches:\", len(test_loader))\n",
    "\n",
    "# Loan FinBERT\n",
    "model = AutoModelForSequenceClassification.from_pretrained(\n",
    "    model_name,\n",
    "    num_labels=2, # Set number of labels to 2 (risk, no risk)\n",
    "    ignore_mismatched_sizes=True # since we are changing the num of labels\n",
    ").to(device)\n",
    "\n",
    "print(\"FinBERT model loaded successfully\")"
   ]
  },
  {
   "cell_type": "markdown",
   "id": "83feffd5",
   "metadata": {},
   "source": [
    "### LoRA Fine-Tuning"
   ]
  },
  {
   "cell_type": "code",
   "execution_count": null,
   "id": "98443506",
   "metadata": {},
   "outputs": [],
   "source": []
  },
  {
   "cell_type": "markdown",
   "id": "a0ecd016",
   "metadata": {},
   "source": [
    "### Complaint Early Warning Model"
   ]
  },
  {
   "cell_type": "code",
   "execution_count": null,
   "id": "67564949",
   "metadata": {},
   "outputs": [],
   "source": []
  },
  {
   "cell_type": "markdown",
   "id": "40d91144",
   "metadata": {},
   "source": [
    "## Validation and Comparison of Baseline and Improved Models"
   ]
  },
  {
   "cell_type": "code",
   "execution_count": null,
   "id": "e97649c1",
   "metadata": {},
   "outputs": [],
   "source": []
  }
 ],
 "metadata": {
  "kernelspec": {
   "display_name": "justice-hmda",
   "language": "python",
   "name": "python3"
  },
  "language_info": {
   "codemirror_mode": {
    "name": "ipython",
    "version": 3
   },
   "file_extension": ".py",
   "mimetype": "text/x-python",
   "name": "python",
   "nbconvert_exporter": "python",
   "pygments_lexer": "ipython3",
   "version": "3.10.18"
  }
 },
 "nbformat": 4,
 "nbformat_minor": 5
}
